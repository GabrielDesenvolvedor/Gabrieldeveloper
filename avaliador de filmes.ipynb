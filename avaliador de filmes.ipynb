{
  "nbformat": 4,
  "nbformat_minor": 0,
  "metadata": {
    "colab": {
      "provenance": [],
      "authorship_tag": "ABX9TyM5Pu/O6a9iM4meN+BvI/60",
      "include_colab_link": true
    },
    "kernelspec": {
      "name": "python3",
      "display_name": "Python 3"
    },
    "language_info": {
      "name": "python"
    }
  },
  "cells": [
    {
      "cell_type": "markdown",
      "metadata": {
        "id": "view-in-github",
        "colab_type": "text"
      },
      "source": [
        "<a href=\"https://colab.research.google.com/github/GabrielDesenvolvedor/Gabrieldeveloper/blob/main/avaliador%20de%20filmes.ipynb\" target=\"_parent\"><img src=\"https://colab.research.google.com/assets/colab-badge.svg\" alt=\"Open In Colab\"/></a>"
      ]
    },
    {
      "cell_type": "code",
      "source": [
        "numeros = (1,2,3,5,6)\n",
        "\n",
        "\n",
        ""
      ],
      "metadata": {
        "id": "Hk0jQ81-NepI"
      },
      "execution_count": 9,
      "outputs": []
    },
    {
      "cell_type": "code",
      "source": [
        "for num in numeros:\n",
        "  print(num)"
      ],
      "metadata": {
        "colab": {
          "base_uri": "https://localhost:8080/"
        },
        "id": "0BS8vYmRPEfH",
        "outputId": "35b043f3-eac7-4088-9168-aaed742e2b5d"
      },
      "execution_count": 10,
      "outputs": [
        {
          "output_type": "stream",
          "name": "stdout",
          "text": [
            "1\n",
            "2\n",
            "3\n",
            "5\n",
            "6\n"
          ]
        }
      ]
    },
    {
      "cell_type": "code",
      "source": [
        "numero = int(input(\"digite um numero (ou 0 para sair: \"))\n",
        "while numero != 0:\n",
        " if numero % 2 == 0:\n",
        "  print(\"numero e par.\")\n",
        " else:\n",
        "  print(\"o numero e impar.\")\n",
        " numero = int(input(\"digite um numero (ou 0 para sair): \"))"
      ],
      "metadata": {
        "colab": {
          "base_uri": "https://localhost:8080/"
        },
        "id": "YT5hSmecR3ux",
        "outputId": "6fb1a3c3-aaf8-4223-81e9-4ef6d4195683"
      },
      "execution_count": 13,
      "outputs": [
        {
          "name": "stdout",
          "output_type": "stream",
          "text": [
            "digite um numero (ou 0 para sair: 3\n",
            "o numero e impar.\n",
            "digite um numero (ou 0 para sair): 1\n",
            "o numero e impar.\n",
            "digite um numero (ou 0 para sair): 2\n",
            "numero e par.\n",
            "digite um numero (ou 0 para sair): 4\n",
            "numero e par.\n",
            "digite um numero (ou 0 para sair): 0\n"
          ]
        }
      ]
    },
    {
      "cell_type": "code",
      "source": [
        "precisamos criar um programa que seja capaz de percorrer todos os filmes(filme 1, filme 2,filme 3,filme 4, filme 5)\n",
        "para cada filme temos uma nota de 1 a 5 note que e importante sempre deixar uma forma da pessoa encerrar o programa caso queira\n",
        "\n",
        "\n",
        "lista de filmes para classificaçao\n",
        "\n",
        "mensagem de boas vindas\n",
        "\n",
        "loop para iterar sobre cada filme da lista\n",
        "\n",
        "solicitar a classificaçao do usuario\n",
        "\n",
        "verificar se o usuario deseja parar\n",
        "\n",
        "converter a classificaçao para um numero inteiro\n",
        "\n",
        "verificar se a classificaçao esta dentro so itervalo valido"
      ],
      "metadata": {
        "id": "b6OvAsTRX71W"
      },
      "execution_count": null,
      "outputs": []
    },
    {
      "cell_type": "code",
      "source": [
        "Filmes = [\"era do gelo\", \"ciborg\", \"click\", \"chuck\", \"carros\"]\n",
        "\n",
        "print(\"Seja bem vindo ao cinema CineSercla\")\n",
        "print(\"gostaria de avaliar nossos 5 filmes da semana?\")\n",
        "print(\"digite '0' para sair a qualquer momento.\\n\")\n",
        "\n",
        "for Filmes in Filmes:\n",
        "  while True:\n",
        "\n",
        "    classificaçao = input(f\"Como você classficaria '{Filmes}' de 1 á 5? ou  0 para encerrar): \")\n",
        "\n",
        "    if classificaçao == '0':\n",
        "\n",
        "        print(\"Que pena que nao vai mais classficar os filmes.\")\n",
        "\n",
        "        break\n",
        "\n",
        "    classificaçao = int(classificaçao)\n",
        "\n",
        "    if classificaçao < 1 or classificaçao > 5:\n",
        "      print(\"por favor digite uma classificação valida de 1 a 5.\")\n",
        "\n",
        "    else:\n",
        "         print(f\"Você classificou '{Filmes}' com {classificaçao} estrelas.\\n \")\n",
        "\n",
        "\n",
        "         print(\"Obrigado por avaliar nossos filmes\")\n",
        "\n",
        "\n"
      ],
      "metadata": {
        "colab": {
          "base_uri": "https://localhost:8080/"
        },
        "id": "8HiiUEdiX_lm",
        "outputId": "682f831d-0be6-4a3d-b80a-e34cd92374ee"
      },
      "execution_count": 21,
      "outputs": [
        {
          "output_type": "stream",
          "name": "stdout",
          "text": [
            "Seja bem vindo ao cinema CineSercla\n",
            "gostaria de avaliar nossos 5 filmes da semana?\n",
            "digite '0' para sair a qualquer momento.\n",
            "\n",
            "Como você classficaria 'era do gelo' de 1 á 5? ou  0 para encerrar): 2\n",
            "Você classificou 'era do gelo' com 2 estrelas.\n",
            " \n",
            "Obrigado por avaliar nossos filmes\n",
            "Como você classficaria 'era do gelo' de 1 á 5? ou  0 para encerrar): 3\n",
            "Você classificou 'era do gelo' com 3 estrelas.\n",
            " \n",
            "Obrigado por avaliar nossos filmes\n",
            "Como você classficaria 'era do gelo' de 1 á 5? ou  0 para encerrar): 4\n",
            "Você classificou 'era do gelo' com 4 estrelas.\n",
            " \n",
            "Obrigado por avaliar nossos filmes\n",
            "Como você classficaria 'era do gelo' de 1 á 5? ou  0 para encerrar): 0\n",
            "Que pena que nao vai mais classficar os filmes.\n",
            "Como você classficaria 'ciborg' de 1 á 5? ou  0 para encerrar): 0\n",
            "Que pena que nao vai mais classficar os filmes.\n",
            "Como você classficaria 'click' de 1 á 5? ou  0 para encerrar): 0\n",
            "Que pena que nao vai mais classficar os filmes.\n",
            "Como você classficaria 'chuck' de 1 á 5? ou  0 para encerrar): 0\n",
            "Que pena que nao vai mais classficar os filmes.\n",
            "Como você classficaria 'carros' de 1 á 5? ou  0 para encerrar): 0\n",
            "Que pena que nao vai mais classficar os filmes.\n"
          ]
        }
      ]
    },
    {
      "cell_type": "code",
      "source": [],
      "metadata": {
        "id": "0dKgb6Jscoyl"
      },
      "execution_count": null,
      "outputs": []
    }
  ]
}